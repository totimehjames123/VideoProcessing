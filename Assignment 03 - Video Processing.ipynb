{
 "cells": [
  {
   "cell_type": "code",
   "execution_count": null,
   "id": "b21a026f",
   "metadata": {
    "scrolled": false
   },
   "outputs": [],
   "source": [
    "import cv2\n",
    "\n",
    "cap = cv2.VideoCapture(r\"video2.mp4\")\n",
    "while True:\n",
    "    ret, frame = cap.read()\n",
    "    gray = cv2.cvtColor(frame, cv2.COLOR_BGR2GRAY)\n",
    "    hsv = cv2.cvtColor(frame, cv2.COLOR_BGR2HSV)\n",
    "    blur = cv2.GaussianBlur(frame,(3,5),5)\n",
    "    \n",
    "    \n",
    "    cv2.imshow(\"FRAME\", frame)\n",
    "    cv2.imshow(\"GRAY\", gray)\n",
    "    cv2.imshow(\"HSV\", hsv) \n",
    "    cv2.imshow(\"BLUR\", blur)\n",
    "        \n",
    "    cv2.waitKey(30)\n",
    "cv2.destroy()\n"
   ]
  },
  {
   "cell_type": "code",
   "execution_count": null,
   "id": "9a23bf6b",
   "metadata": {},
   "outputs": [],
   "source": []
  }
 ],
 "metadata": {
  "kernelspec": {
   "display_name": "Python 3 (ipykernel)",
   "language": "python",
   "name": "python3"
  },
  "language_info": {
   "codemirror_mode": {
    "name": "ipython",
    "version": 3
   },
   "file_extension": ".py",
   "mimetype": "text/x-python",
   "name": "python",
   "nbconvert_exporter": "python",
   "pygments_lexer": "ipython3",
   "version": "3.9.12"
  }
 },
 "nbformat": 4,
 "nbformat_minor": 5
}
