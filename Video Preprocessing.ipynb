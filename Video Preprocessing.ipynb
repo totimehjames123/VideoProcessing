{
 "cells": [
  {
   "cell_type": "code",
   "execution_count": null,
   "id": "d6ddccfe",
   "metadata": {},
   "outputs": [],
   "source": [
    "import cv2\n",
    "from ffpyplayer.player import MediaPlayer\n",
    "videoPath = input(\"Enter the Video's path : \")\n",
    "player = MediaPlayer(videoPath)\n",
    "cap = cv2.VideoCapture(videoPath)\n",
    "\n",
    "while True:\n",
    "    ret, frame = cap.read()\n",
    "    cv2.imshow(\"Frame\", frame)\n",
    "    cv2.waitKey()\n",
    "    "
   ]
  },
  {
   "cell_type": "code",
   "execution_count": null,
   "id": "32253684",
   "metadata": {},
   "outputs": [],
   "source": []
  },
  {
   "cell_type": "code",
   "execution_count": null,
   "id": "7280a44e",
   "metadata": {},
   "outputs": [],
   "source": []
  }
 ],
 "metadata": {
  "kernelspec": {
   "display_name": "Python 3 (ipykernel)",
   "language": "python",
   "name": "python3"
  },
  "language_info": {
   "codemirror_mode": {
    "name": "ipython",
    "version": 3
   },
   "file_extension": ".py",
   "mimetype": "text/x-python",
   "name": "python",
   "nbconvert_exporter": "python",
   "pygments_lexer": "ipython3",
   "version": "3.9.12"
  }
 },
 "nbformat": 4,
 "nbformat_minor": 5
}
